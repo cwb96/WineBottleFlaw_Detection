{
 "nbformat": 4,
 "nbformat_minor": 2,
 "metadata": {
  "language_info": {
   "name": "python",
   "codemirror_mode": {
    "name": "ipython",
    "version": 3
   },
   "version": "3.7.4-final"
  },
  "orig_nbformat": 2,
  "file_extension": ".py",
  "mimetype": "text/x-python",
  "name": "python",
  "npconvert_exporter": "python",
  "pygments_lexer": "ipython3",
  "version": 3,
  "kernelspec": {
   "name": "python37464bitbcf2951800b34fb1ac32e684dd3f5511",
   "display_name": "Python 3.7.4 64-bit"
  }
 },
 "cells": [
  {
   "cell_type": "code",
   "execution_count": 2,
   "metadata": {},
   "outputs": [],
   "source": [
    "import os\n",
    "import json\n",
    "\n",
    "train_ann = '../datasets/chongqing1_round1_train1_20191223/train_annotations.json'\n",
    "val_ann = '../datasets/chongqing1_round1_train1_20191223/val_annotations.json'\n",
    "test_ann = '../datasets/chongqing1_round1_testA_20191223/test_annotations.json'\n",
    "\n",
    "train_data = json.load(open(train_ann))\n",
    "val_data = json.load(open(val_ann))\n",
    "test_data = json.load(open(test_ann))"
   ]
  },
  {
   "cell_type": "code",
   "execution_count": 9,
   "metadata": {},
   "outputs": [
    {
     "data": {
      "image/png": "[encoded data removed]",
      "text/plain": "<Figure size 432x288 with 1 Axes>"
     },
     "metadata": {
      "needs_background": "light"
     },
     "output_type": "display_data"
    },
    {
     "name": "stdout",
     "output_type": "stream",
     "text": "Width: {4096, 658}\nHeight: {3000, 492}\n"
    }
   ],
   "source": [
    "import matplotlib.pyplot as plt\n",
    "\n",
    "w_set = []\n",
    "h_set = []\n",
    "for item in train_data['images']:\n",
    "    w_set.append(item['width'])\n",
    "    h_set.append(item['height'])\n",
    "for item in val_data['images']:\n",
    "    w_set.append(item['width'])\n",
    "    h_set.append(item['height'])\n",
    "\n",
    "plt.scatter(w_set, h_set, s=80)\n",
    "plt.show()\n",
    "print(\"Width: {}\".format(set(w_set)))\n",
    "print(\"Height: {}\".format(set(h_set)))"
   ]
  },
  {
   "cell_type": "code",
   "execution_count": 10,
   "metadata": {},
   "outputs": [
    {
     "data": {
      "image/png": "[encoded data removed]",
      "text/plain": "<Figure size 432x288 with 1 Axes>"
     },
     "metadata": {
      "needs_background": "light"
     },
     "output_type": "display_data"
    },
    {
     "name": "stdout",
     "output_type": "stream",
     "text": "Width: {4096, 658}\nHeight: {3000, 492}\n"
    }
   ],
   "source": [
    "import matplotlib.pyplot as plt\n",
    "\n",
    "w_set = []\n",
    "h_set = []\n",
    "for item in test_data['images']:\n",
    "    w_set.append(item['width'])\n",
    "    h_set.append(item['height'])\n",
    "\n",
    "plt.scatter(w_set, h_set, s=80)\n",
    "plt.show()\n",
    "print(\"Width: {}\".format(set(w_set)))\n",
    "print(\"Height: {}\".format(set(h_set)))"
   ]
  },
  {
   "cell_type": "code",
   "execution_count": 11,
   "metadata": {},
   "outputs": [
    {
     "data": {
      "text/plain": "1.3653333333333333"
     },
     "execution_count": 11,
     "metadata": {},
     "output_type": "execute_result"
    }
   ],
   "source": [
    "4096/3000"
   ]
  },
  {
   "cell_type": "code",
   "execution_count": 12,
   "metadata": {},
   "outputs": [
    {
     "data": {
      "text/plain": "1.3373983739837398"
     },
     "execution_count": 12,
     "metadata": {},
     "output_type": "execute_result"
    }
   ],
   "source": [
    "658/492"
   ]
  },
  {
   "cell_type": "markdown",
   "execution_count": null,
   "metadata": {},
   "outputs": [],
   "source": [
    "# 结论\n",
    "\n",
    "在训练集和测试集中，均只有两种图像尺度，分别为(4096, 3000)以及(658, 492)，两者长宽比接近。\n",
    "\n",
    "- [ ] 需要判定较大的图和较小的图是否有特殊规律\n",
    "- [ ] 是不是针对特定的瑕疵类别有特定的图像大小"
   ]
  },
  {
   "cell_type": "code",
   "execution_count": null,
   "metadata": {},
   "outputs": [],
   "source": []
  }
 ]
}